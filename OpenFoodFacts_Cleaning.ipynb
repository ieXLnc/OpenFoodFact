{
 "cells": [
  {
   "cell_type": "markdown",
   "metadata": {},
   "source": [
    "# OpenFoodFacts Dataset from kaggle \n",
    "\n",
    "https://www.kaggle.com/datasets/openfoodfacts/world-food-facts?resource=download\n",
    "\n",
    "\n",
    "1. Cleaning the data\n",
    "2. Perform basic EDA\n",
    "3.\n"
   ]
  },
  {
   "cell_type": "code",
   "execution_count": 1,
   "metadata": {},
   "outputs": [],
   "source": [
    "import numpy as np\n",
    "import pandas as pd\n",
    "import seaborn as sns\n",
    "import matplotlib.pyplot as plt\n",
    "%matplotlib inline"
   ]
  },
  {
   "cell_type": "code",
   "execution_count": 2,
   "metadata": {},
   "outputs": [
    {
     "name": "stderr",
     "output_type": "stream",
     "text": [
      "C:\\Users\\xavier\\AppData\\Local\\Temp\\ipykernel_2988\\14680392.py:1: DtypeWarning: Columns (0,3,5,19,20,24,25,26,27,28,36,37,38,39,48) have mixed types. Specify dtype option on import or set low_memory=False.\n",
      "  openfood_df = pd.read_csv('en.openfoodfacts.org.products.tsv', sep='\\t')\n"
     ]
    },
    {
     "name": "stdout",
     "output_type": "stream",
     "text": [
      "<class 'pandas.core.frame.DataFrame'>\n",
      "RangeIndex: 356027 entries, 0 to 356026\n",
      "Columns: 163 entries, code to water-hardness_100g\n",
      "dtypes: float64(107), object(56)\n",
      "memory usage: 442.8+ MB\n"
     ]
    }
   ],
   "source": [
    "openfood_df = pd.read_csv('en.openfoodfacts.org.products.tsv', sep='\\t')\n",
    "\n",
    "openfood_df.info()"
   ]
  },
  {
   "cell_type": "code",
   "execution_count": 3,
   "metadata": {},
   "outputs": [
    {
     "data": {
      "text/html": [
       "<div>\n",
       "<style scoped>\n",
       "    .dataframe tbody tr th:only-of-type {\n",
       "        vertical-align: middle;\n",
       "    }\n",
       "\n",
       "    .dataframe tbody tr th {\n",
       "        vertical-align: top;\n",
       "    }\n",
       "\n",
       "    .dataframe thead th {\n",
       "        text-align: right;\n",
       "    }\n",
       "</style>\n",
       "<table border=\"1\" class=\"dataframe\">\n",
       "  <thead>\n",
       "    <tr style=\"text-align: right;\">\n",
       "      <th></th>\n",
       "      <th>code</th>\n",
       "      <th>url</th>\n",
       "      <th>creator</th>\n",
       "      <th>created_t</th>\n",
       "      <th>created_datetime</th>\n",
       "      <th>last_modified_t</th>\n",
       "      <th>last_modified_datetime</th>\n",
       "      <th>product_name</th>\n",
       "      <th>generic_name</th>\n",
       "      <th>quantity</th>\n",
       "      <th>...</th>\n",
       "      <th>fruits-vegetables-nuts_100g</th>\n",
       "      <th>fruits-vegetables-nuts-estimate_100g</th>\n",
       "      <th>collagen-meat-protein-ratio_100g</th>\n",
       "      <th>cocoa_100g</th>\n",
       "      <th>chlorophyl_100g</th>\n",
       "      <th>carbon-footprint_100g</th>\n",
       "      <th>nutrition-score-fr_100g</th>\n",
       "      <th>nutrition-score-uk_100g</th>\n",
       "      <th>glycemic-index_100g</th>\n",
       "      <th>water-hardness_100g</th>\n",
       "    </tr>\n",
       "  </thead>\n",
       "  <tbody>\n",
       "    <tr>\n",
       "      <th>0</th>\n",
       "      <td>3087</td>\n",
       "      <td>http://world-en.openfoodfacts.org/product/0000...</td>\n",
       "      <td>openfoodfacts-contributors</td>\n",
       "      <td>1474103866</td>\n",
       "      <td>2016-09-17T09:17:46Z</td>\n",
       "      <td>1474103893</td>\n",
       "      <td>2016-09-17T09:18:13Z</td>\n",
       "      <td>Farine de blé noir</td>\n",
       "      <td>NaN</td>\n",
       "      <td>1kg</td>\n",
       "      <td>...</td>\n",
       "      <td>NaN</td>\n",
       "      <td>NaN</td>\n",
       "      <td>NaN</td>\n",
       "      <td>NaN</td>\n",
       "      <td>NaN</td>\n",
       "      <td>NaN</td>\n",
       "      <td>NaN</td>\n",
       "      <td>NaN</td>\n",
       "      <td>NaN</td>\n",
       "      <td>NaN</td>\n",
       "    </tr>\n",
       "    <tr>\n",
       "      <th>1</th>\n",
       "      <td>4530</td>\n",
       "      <td>http://world-en.openfoodfacts.org/product/0000...</td>\n",
       "      <td>usda-ndb-import</td>\n",
       "      <td>1489069957</td>\n",
       "      <td>2017-03-09T14:32:37Z</td>\n",
       "      <td>1489069957</td>\n",
       "      <td>2017-03-09T14:32:37Z</td>\n",
       "      <td>Banana Chips Sweetened (Whole)</td>\n",
       "      <td>NaN</td>\n",
       "      <td>NaN</td>\n",
       "      <td>...</td>\n",
       "      <td>NaN</td>\n",
       "      <td>NaN</td>\n",
       "      <td>NaN</td>\n",
       "      <td>NaN</td>\n",
       "      <td>NaN</td>\n",
       "      <td>NaN</td>\n",
       "      <td>14.0</td>\n",
       "      <td>14.0</td>\n",
       "      <td>NaN</td>\n",
       "      <td>NaN</td>\n",
       "    </tr>\n",
       "    <tr>\n",
       "      <th>2</th>\n",
       "      <td>4559</td>\n",
       "      <td>http://world-en.openfoodfacts.org/product/0000...</td>\n",
       "      <td>usda-ndb-import</td>\n",
       "      <td>1489069957</td>\n",
       "      <td>2017-03-09T14:32:37Z</td>\n",
       "      <td>1489069957</td>\n",
       "      <td>2017-03-09T14:32:37Z</td>\n",
       "      <td>Peanuts</td>\n",
       "      <td>NaN</td>\n",
       "      <td>NaN</td>\n",
       "      <td>...</td>\n",
       "      <td>NaN</td>\n",
       "      <td>NaN</td>\n",
       "      <td>NaN</td>\n",
       "      <td>NaN</td>\n",
       "      <td>NaN</td>\n",
       "      <td>NaN</td>\n",
       "      <td>0.0</td>\n",
       "      <td>0.0</td>\n",
       "      <td>NaN</td>\n",
       "      <td>NaN</td>\n",
       "    </tr>\n",
       "    <tr>\n",
       "      <th>3</th>\n",
       "      <td>16087</td>\n",
       "      <td>http://world-en.openfoodfacts.org/product/0000...</td>\n",
       "      <td>usda-ndb-import</td>\n",
       "      <td>1489055731</td>\n",
       "      <td>2017-03-09T10:35:31Z</td>\n",
       "      <td>1489055731</td>\n",
       "      <td>2017-03-09T10:35:31Z</td>\n",
       "      <td>Organic Salted Nut Mix</td>\n",
       "      <td>NaN</td>\n",
       "      <td>NaN</td>\n",
       "      <td>...</td>\n",
       "      <td>NaN</td>\n",
       "      <td>NaN</td>\n",
       "      <td>NaN</td>\n",
       "      <td>NaN</td>\n",
       "      <td>NaN</td>\n",
       "      <td>NaN</td>\n",
       "      <td>12.0</td>\n",
       "      <td>12.0</td>\n",
       "      <td>NaN</td>\n",
       "      <td>NaN</td>\n",
       "    </tr>\n",
       "    <tr>\n",
       "      <th>4</th>\n",
       "      <td>16094</td>\n",
       "      <td>http://world-en.openfoodfacts.org/product/0000...</td>\n",
       "      <td>usda-ndb-import</td>\n",
       "      <td>1489055653</td>\n",
       "      <td>2017-03-09T10:34:13Z</td>\n",
       "      <td>1489055653</td>\n",
       "      <td>2017-03-09T10:34:13Z</td>\n",
       "      <td>Organic Polenta</td>\n",
       "      <td>NaN</td>\n",
       "      <td>NaN</td>\n",
       "      <td>...</td>\n",
       "      <td>NaN</td>\n",
       "      <td>NaN</td>\n",
       "      <td>NaN</td>\n",
       "      <td>NaN</td>\n",
       "      <td>NaN</td>\n",
       "      <td>NaN</td>\n",
       "      <td>NaN</td>\n",
       "      <td>NaN</td>\n",
       "      <td>NaN</td>\n",
       "      <td>NaN</td>\n",
       "    </tr>\n",
       "  </tbody>\n",
       "</table>\n",
       "<p>5 rows × 163 columns</p>\n",
       "</div>"
      ],
      "text/plain": [
       "    code                                                url  \\\n",
       "0   3087  http://world-en.openfoodfacts.org/product/0000...   \n",
       "1   4530  http://world-en.openfoodfacts.org/product/0000...   \n",
       "2   4559  http://world-en.openfoodfacts.org/product/0000...   \n",
       "3  16087  http://world-en.openfoodfacts.org/product/0000...   \n",
       "4  16094  http://world-en.openfoodfacts.org/product/0000...   \n",
       "\n",
       "                      creator   created_t      created_datetime  \\\n",
       "0  openfoodfacts-contributors  1474103866  2016-09-17T09:17:46Z   \n",
       "1             usda-ndb-import  1489069957  2017-03-09T14:32:37Z   \n",
       "2             usda-ndb-import  1489069957  2017-03-09T14:32:37Z   \n",
       "3             usda-ndb-import  1489055731  2017-03-09T10:35:31Z   \n",
       "4             usda-ndb-import  1489055653  2017-03-09T10:34:13Z   \n",
       "\n",
       "  last_modified_t last_modified_datetime                    product_name  \\\n",
       "0      1474103893   2016-09-17T09:18:13Z              Farine de blé noir   \n",
       "1      1489069957   2017-03-09T14:32:37Z  Banana Chips Sweetened (Whole)   \n",
       "2      1489069957   2017-03-09T14:32:37Z                         Peanuts   \n",
       "3      1489055731   2017-03-09T10:35:31Z          Organic Salted Nut Mix   \n",
       "4      1489055653   2017-03-09T10:34:13Z                 Organic Polenta   \n",
       "\n",
       "  generic_name quantity  ... fruits-vegetables-nuts_100g  \\\n",
       "0          NaN      1kg  ...                         NaN   \n",
       "1          NaN      NaN  ...                         NaN   \n",
       "2          NaN      NaN  ...                         NaN   \n",
       "3          NaN      NaN  ...                         NaN   \n",
       "4          NaN      NaN  ...                         NaN   \n",
       "\n",
       "  fruits-vegetables-nuts-estimate_100g collagen-meat-protein-ratio_100g  \\\n",
       "0                                  NaN                              NaN   \n",
       "1                                  NaN                              NaN   \n",
       "2                                  NaN                              NaN   \n",
       "3                                  NaN                              NaN   \n",
       "4                                  NaN                              NaN   \n",
       "\n",
       "  cocoa_100g chlorophyl_100g carbon-footprint_100g nutrition-score-fr_100g  \\\n",
       "0        NaN             NaN                   NaN                     NaN   \n",
       "1        NaN             NaN                   NaN                    14.0   \n",
       "2        NaN             NaN                   NaN                     0.0   \n",
       "3        NaN             NaN                   NaN                    12.0   \n",
       "4        NaN             NaN                   NaN                     NaN   \n",
       "\n",
       "  nutrition-score-uk_100g glycemic-index_100g water-hardness_100g  \n",
       "0                     NaN                 NaN                 NaN  \n",
       "1                    14.0                 NaN                 NaN  \n",
       "2                     0.0                 NaN                 NaN  \n",
       "3                    12.0                 NaN                 NaN  \n",
       "4                     NaN                 NaN                 NaN  \n",
       "\n",
       "[5 rows x 163 columns]"
      ]
     },
     "execution_count": 3,
     "metadata": {},
     "output_type": "execute_result"
    }
   ],
   "source": [
    "openfood_df.head(5)"
   ]
  },
  {
   "cell_type": "markdown",
   "metadata": {},
   "source": [
    "## 1. Cleaning the Data \n",
    "\n",
    "- Missing data/incomplete data --> fill/remove\n",
    "- Incorrect data --> bad formating/inconsistency in units/bad formatting/typos\n",
    "- Duplicates\n",
    "- Outliers\n",
    "- Text data\n",
    "- Time-series data\n",
    "\n",
    "### 1.a Remove all the unecessary/unusable columns"
   ]
  },
  {
   "cell_type": "code",
   "execution_count": 4,
   "metadata": {},
   "outputs": [
    {
     "data": {
      "text/plain": [
       "44183489"
      ]
     },
     "execution_count": 4,
     "metadata": {},
     "output_type": "execute_result"
    }
   ],
   "source": [
    "# (356027, 163)\n",
    "openfood_df.shape\n",
    "\n",
    "# containing x missing values: 44_183_489\n",
    "openfood_df.isnull().sum().sum()"
   ]
  },
  {
   "cell_type": "code",
   "execution_count": 5,
   "metadata": {},
   "outputs": [
    {
     "data": {
      "text/plain": [
       "(356027, 147)"
      ]
     },
     "execution_count": 5,
     "metadata": {},
     "output_type": "execute_result"
    }
   ],
   "source": [
    "# First drop all columns that have only NaN inside\n",
    "openfood_df.dropna(how='all', axis=1, inplace=True)\n",
    "openfood_df.shape  # (356027, 147) --> 16 columns dropped"
   ]
  },
  {
   "cell_type": "code",
   "execution_count": 6,
   "metadata": {},
   "outputs": [
    {
     "data": {
      "text/plain": [
       "Index(['generic_name', 'quantity', 'packaging', 'packaging_tags', 'categories',\n",
       "       'categories_tags', 'categories_en', 'origins', 'origins_tags',\n",
       "       'manufacturing_places',\n",
       "       ...\n",
       "       'molybdenum_100g', 'iodine_100g', 'caffeine_100g', 'taurine_100g',\n",
       "       'ph_100g', 'fruits-vegetables-nuts_100g',\n",
       "       'fruits-vegetables-nuts-estimate_100g',\n",
       "       'collagen-meat-protein-ratio_100g', 'cocoa_100g',\n",
       "       'carbon-footprint_100g'],\n",
       "      dtype='object', length=113)"
      ]
     },
     "execution_count": 6,
     "metadata": {},
     "output_type": "execute_result"
    }
   ],
   "source": [
    "# Now lets check the % of NaN inside each column and delete the ones that have more than 50% of missing vals\n",
    "\n",
    "vals_nan = openfood_df.isnull().sum()/ len(openfood_df)\n",
    "# Looking at all cols with more than 50% of NaN\n",
    "cols_nan = vals_nan[vals_nan > 0.50].index\n",
    "cols_nan # we have 113 cols with more than 50%"
   ]
  },
  {
   "cell_type": "code",
   "execution_count": 7,
   "metadata": {},
   "outputs": [
    {
     "data": {
      "text/plain": [
       "(356027, 34)"
      ]
     },
     "execution_count": 7,
     "metadata": {},
     "output_type": "execute_result"
    }
   ],
   "source": [
    "# Lets drop those cols\n",
    "openfood_df.drop(cols_nan, axis=1, inplace=True)\n",
    "openfood_df.shape # (356027, 34)"
   ]
  },
  {
   "cell_type": "code",
   "execution_count": 8,
   "metadata": {},
   "outputs": [
    {
     "data": {
      "text/plain": [
       "serving_size                               0.391560\n",
       "fiber_100g                                 0.380151\n",
       "nutrition-score-uk_100g                    0.284167\n",
       "nutrition-score-fr_100g                    0.284167\n",
       "nutrition_grade_fr                         0.284167\n",
       "saturated-fat_100g                         0.258980\n",
       "sugars_100g                                0.215829\n",
       "carbohydrates_100g                         0.215734\n",
       "fat_100g                                   0.214956\n",
       "additives                                  0.202799\n",
       "ingredients_that_may_be_from_palm_oil_n    0.202681\n",
       "additives_n                                0.202681\n",
       "ingredients_from_palm_oil_n                0.202681\n",
       "ingredients_text                           0.202608\n",
       "sodium_100g                                0.186315\n",
       "salt_100g                                  0.186188\n",
       "proteins_100g                              0.173768\n",
       "energy_100g                                0.170380\n",
       "brands_tags                                0.081651\n",
       "brands                                     0.081595\n",
       "product_name                               0.049187\n",
       "countries_en                               0.000772\n",
       "countries                                  0.000772\n",
       "countries_tags                             0.000772\n",
       "states                                     0.000146\n",
       "states_tags                                0.000146\n",
       "states_en                                  0.000146\n",
       "url                                        0.000073\n",
       "code                                       0.000073\n",
       "created_datetime                           0.000028\n",
       "created_t                                  0.000008\n",
       "creator                                    0.000008\n",
       "last_modified_datetime                     0.000000\n",
       "last_modified_t                            0.000000\n",
       "dtype: float64"
      ]
     },
     "execution_count": 8,
     "metadata": {},
     "output_type": "execute_result"
    }
   ],
   "source": [
    "openfood_df.isnull().mean().sort_values(ascending = False) # max 39% of missing vals which is a number I can work with\n",
    "\n",
    "# To check:\n",
    "# nutrition score - uk/fr/grade have the same %\n",
    "# ingredient palm oil/additives/ingredient from palm oil - same\n",
    "# countries_en/countries/countries_tags - same\n",
    "# states/states_tags/states_en - same\n",
    "# brand and brand_tags\n",
    "# url and code"
   ]
  },
  {
   "cell_type": "code",
   "execution_count": 9,
   "metadata": {},
   "outputs": [
    {
     "name": "stdout",
     "output_type": "stream",
     "text": [
      "there are 13063 different values in the cols\n",
      "      nutrition-score-uk_100g  nutrition-score-fr_100g\n",
      "185                       3.0                     18.0\n",
      "190                       0.0                      2.0\n",
      "231                       2.0                     13.0\n",
      "238                       2.0                     14.0\n",
      "249                       2.0                     13.0\n",
      "574                       1.0                     11.0\n",
      "636                       0.0                      1.0\n",
      "682                      20.0                     11.0\n",
      "698                       2.0                     17.0\n",
      "699                       1.0                     12.0\n",
      "719                      20.0                     15.0\n",
      "733                      19.0                     14.0\n",
      "930                       0.0                      6.0\n",
      "1665                      1.0                     10.0\n",
      "1666                      1.0                     10.0\n",
      "2102                     -3.0                      5.0\n",
      "3476                     -3.0                      5.0\n",
      "3480                     -3.0                      5.0\n",
      "3484                     -3.0                      5.0\n",
      "3658                     -3.0                      5.0\n"
     ]
    }
   ],
   "source": [
    "openfood_df[['nutrition-score-uk_100g', 'nutrition-score-fr_100g', 'nutrition_grade_fr']]\n",
    "openfood_df['nutrition-score-uk_100g'].equals(openfood_df['nutrition-score-fr_100g']) # are not the same ?\n",
    "\n",
    "\n",
    "def compare_vals_cols(list_col, df):\n",
    "    diff_rows_index = []\n",
    "    sub_df = df[list_col]\n",
    "    count_cols = 0\n",
    "    for i, vals in enumerate(sub_df.values):\n",
    "        if vals[0] != vals[1]:\n",
    "            if np.count_nonzero(np.isnan(vals)) == vals.shape[0]:\n",
    "                continue        \n",
    "            diff_rows_index.append(i)\n",
    "            count_cols += 1\n",
    "    print(f'there are {count_cols} different values in the cols')\n",
    "    print(sub_df.iloc[diff_rows_index].head(20))\n",
    "    \n",
    "compare_vals_cols(['nutrition-score-uk_100g', 'nutrition-score-fr_100g'], openfood_df)\n",
    "\n",
    "# --> SO, most of the diff are NaN but there are still 13063 vals that are diff so i'll keep both"
   ]
  },
  {
   "cell_type": "code",
   "execution_count": 10,
   "metadata": {},
   "outputs": [
    {
     "name": "stdout",
     "output_type": "stream",
     "text": [
      "there are 17527 different values in the cols\n",
      "     ingredients_that_may_be_from_palm_oil_n  ingredients_from_palm_oil_n\n",
      "48                                       3.0                          0.0\n",
      "177                                      1.0                          0.0\n",
      "205                                      1.0                          0.0\n",
      "209                                      1.0                          0.0\n",
      "214                                      1.0                          0.0\n",
      "215                                      1.0                          0.0\n",
      "216                                      1.0                          0.0\n",
      "218                                      1.0                          0.0\n",
      "251                                      1.0                          0.0\n",
      "265                                      1.0                          0.0\n",
      "266                                      1.0                          0.0\n",
      "288                                      1.0                          0.0\n",
      "290                                      1.0                          0.0\n",
      "292                                      1.0                          0.0\n",
      "437                                      1.0                          0.0\n",
      "475                                      1.0                          0.0\n",
      "476                                      1.0                          0.0\n",
      "529                                      1.0                          0.0\n",
      "530                                      0.0                          1.0\n",
      "592                                      1.0                          0.0\n"
     ]
    }
   ],
   "source": [
    "openfood_df[['ingredients_that_may_be_from_palm_oil_n', 'additives_n', 'ingredients_from_palm_oil_n']].head(30) # additive is diff lets compare the two others\n",
    "\n",
    "compare_vals_cols(['ingredients_that_may_be_from_palm_oil_n', 'ingredients_from_palm_oil_n'], openfood_df)\n",
    "# 17527 vals different so i'll keep both!"
   ]
  },
  {
   "cell_type": "code",
   "execution_count": 11,
   "metadata": {},
   "outputs": [],
   "source": [
    "openfood_df[['countries_en', 'countries', 'countries_tags']]\n",
    "\n",
    "# these are the same so I'll keep countries_en which is the most clear\n",
    "# lets create a list of cols to drop \n",
    "cols_todrop = ['countries', 'countries_tags']"
   ]
  },
  {
   "cell_type": "code",
   "execution_count": 12,
   "metadata": {},
   "outputs": [],
   "source": [
    "openfood_df[['states', 'states_tags', 'states_en']]\n",
    "# The states are describing the state of the product in the dataset, which isnt usefull so i'll remove all 3\n",
    "cols_todrop.extend(('states', 'states_tags', 'states_en'))"
   ]
  },
  {
   "cell_type": "code",
   "execution_count": 13,
   "metadata": {},
   "outputs": [],
   "source": [
    "# check if url, code and creator are necessary cols\n",
    "openfood_df[['url', 'code', 'creator']] # dont think so\n",
    "cols_todrop.extend(('url', 'code', 'creator'))"
   ]
  },
  {
   "cell_type": "code",
   "execution_count": 14,
   "metadata": {},
   "outputs": [],
   "source": [
    "openfood_df[['brands_tags', 'brands']] # same\n",
    "cols_todrop.append('brands')"
   ]
  },
  {
   "cell_type": "code",
   "execution_count": 15,
   "metadata": {},
   "outputs": [],
   "source": [
    "# check the created t cols\n",
    "openfood_df[['created_t', 'created_datetime', 'last_modified_t', 'last_modified_datetime']]\n",
    "# the most revelant seem to be the created_datetime, lets keep this one\n",
    "cols_todrop.extend(('created_t', 'last_modified_datetime', 'last_modified_t'))"
   ]
  },
  {
   "cell_type": "code",
   "execution_count": 16,
   "metadata": {},
   "outputs": [
    {
     "data": {
      "text/plain": [
       "(356027, 22)"
      ]
     },
     "execution_count": 16,
     "metadata": {},
     "output_type": "execute_result"
    }
   ],
   "source": [
    "# lets drop the columns\n",
    "openfood_df.drop(cols_todrop, axis=1, inplace=True)\n",
    "openfood_df.shape # (356027, 22)"
   ]
  },
  {
   "cell_type": "markdown",
   "metadata": {},
   "source": [
    "### 1.b fill/remove missing values\n",
    "\n",
    "Now that I have cleaned the useless and reductant columns, i'm going to start looking at the rows and missing vals to see if I remove or fill them"
   ]
  },
  {
   "cell_type": "code",
   "execution_count": 17,
   "metadata": {},
   "outputs": [
    {
     "name": "stdout",
     "output_type": "stream",
     "text": [
      "<class 'pandas.core.frame.DataFrame'>\n",
      "RangeIndex: 356027 entries, 0 to 356026\n",
      "Data columns (total 22 columns):\n",
      " #   Column                                   Non-Null Count   Dtype  \n",
      "---  ------                                   --------------   -----  \n",
      " 0   created_datetime                         356017 non-null  object \n",
      " 1   product_name                             338515 non-null  object \n",
      " 2   brands_tags                              326957 non-null  object \n",
      " 3   countries_en                             355752 non-null  object \n",
      " 4   ingredients_text                         283893 non-null  object \n",
      " 5   serving_size                             216621 non-null  object \n",
      " 6   additives_n                              283867 non-null  float64\n",
      " 7   additives                                283825 non-null  object \n",
      " 8   ingredients_from_palm_oil_n              283867 non-null  float64\n",
      " 9   ingredients_that_may_be_from_palm_oil_n  283867 non-null  float64\n",
      " 10  nutrition_grade_fr                       254856 non-null  object \n",
      " 11  energy_100g                              295367 non-null  float64\n",
      " 12  fat_100g                                 279497 non-null  float64\n",
      " 13  saturated-fat_100g                       263823 non-null  float64\n",
      " 14  carbohydrates_100g                       279220 non-null  float64\n",
      " 15  sugars_100g                              279186 non-null  float64\n",
      " 16  fiber_100g                               220683 non-null  float64\n",
      " 17  proteins_100g                            294161 non-null  float64\n",
      " 18  salt_100g                                289739 non-null  float64\n",
      " 19  sodium_100g                              289694 non-null  float64\n",
      " 20  nutrition-score-fr_100g                  254856 non-null  float64\n",
      " 21  nutrition-score-uk_100g                  254856 non-null  float64\n",
      "dtypes: float64(14), object(8)\n",
      "memory usage: 59.8+ MB\n"
     ]
    }
   ],
   "source": [
    "openfood_df.head(5)\n",
    "openfood_df.info()"
   ]
  },
  {
   "cell_type": "code",
   "execution_count": 18,
   "metadata": {},
   "outputs": [
    {
     "data": {
      "text/plain": [
       "(338515, 22)"
      ]
     },
     "execution_count": 18,
     "metadata": {},
     "output_type": "execute_result"
    }
   ],
   "source": [
    "# as the product name is the most important for the following analysis i'm going to check first if all have\n",
    "openfood_df[['product_name']].isnull().sum()\n",
    "# 17512 don't have a name, lets drop them\n",
    "\n",
    "openfood_df.dropna(subset=['product_name'], inplace=True)\n",
    "openfood_df.shape #(338515, 22)"
   ]
  },
  {
   "cell_type": "code",
   "execution_count": 19,
   "metadata": {},
   "outputs": [
    {
     "data": {
      "text/plain": [
       "product_name                                    0\n",
       "created_datetime                               10\n",
       "countries_en                                  219\n",
       "brands_tags                                 13893\n",
       "energy_100g                                 46534\n",
       "proteins_100g                               47698\n",
       "salt_100g                                   51809\n",
       "sodium_100g                                 51846\n",
       "ingredients_text                            56418\n",
       "additives_n                                 56444\n",
       "ingredients_that_may_be_from_palm_oil_n     56444\n",
       "ingredients_from_palm_oil_n                 56444\n",
       "additives                                   56483\n",
       "fat_100g                                    62359\n",
       "sugars_100g                                 62424\n",
       "carbohydrates_100g                          62644\n",
       "saturated-fat_100g                          77644\n",
       "nutrition_grade_fr                          86445\n",
       "nutrition-score-fr_100g                     86445\n",
       "nutrition-score-uk_100g                     86445\n",
       "fiber_100g                                 120123\n",
       "serving_size                               123791\n",
       "dtype: int64"
      ]
     },
     "execution_count": 19,
     "metadata": {},
     "output_type": "execute_result"
    }
   ],
   "source": [
    "openfood_df.isnull().sum().sort_values(ascending=True)"
   ]
  },
  {
   "cell_type": "code",
   "execution_count": 20,
   "metadata": {},
   "outputs": [],
   "source": [
    "# fill the created_datetime NaN\n",
    "openfood_df['created_datetime'].fillna(method='ffill', inplace=True)"
   ]
  },
  {
   "cell_type": "code",
   "execution_count": 21,
   "metadata": {},
   "outputs": [],
   "source": [
    "# replacing for countries\n",
    "openfood_df['countries_en'].head(10)\n",
    "openfood_df.loc[openfood_df['countries_en'].isnull(), 'countries_en']\n",
    "openfood_df.loc[10694:10695, 'countries_en']\n",
    "openfood_df['countries_en'].fillna(value='country not available', inplace=True)"
   ]
  },
  {
   "cell_type": "code",
   "execution_count": 22,
   "metadata": {},
   "outputs": [],
   "source": [
    "# fill tags\n",
    "openfood_df['brands_tags'].head(10) # looks the same as the countries, i'm going to fill with not available\n",
    "openfood_df['brands_tags'].fillna(value='tag not available', inplace=True)"
   ]
  },
  {
   "cell_type": "code",
   "execution_count": 23,
   "metadata": {},
   "outputs": [
    {
     "data": {
      "text/plain": [
       "(292320, 22)"
      ]
     },
     "execution_count": 23,
     "metadata": {},
     "output_type": "execute_result"
    }
   ],
   "source": [
    "# fill energy_100g/proteins_100g/ salt_100g/ sodium_100g\n",
    "# those have almost the same number of Nan, I want to remove tthe rows that are all nan is those cols\n",
    "openfood_df.dropna(subset=['energy_100g', 'proteins_100g', 'salt_100g', 'sodium_100g'], how='all', axis=0, inplace=True) # 45586 rows were all nan (292929, 23)\n",
    "openfood_df.dropna(subset=['sugars_100g', 'carbohydrates_100g', 'fat_100g'], how='all', axis=0, inplace=True) # (292320, 23) - 609 rows\n",
    "openfood_df.shape # (292320, 22)"
   ]
  },
  {
   "cell_type": "code",
   "execution_count": 24,
   "metadata": {},
   "outputs": [
    {
     "data": {
      "text/plain": [
       "(257375, 22)"
      ]
     },
     "execution_count": 24,
     "metadata": {},
     "output_type": "execute_result"
    }
   ],
   "source": [
    "# I can see that it is going to be really difficult to fill any values for the energy, salt, sugar, etc rows because it could be inconsistent and false the results after, \n",
    "# I am going to remove all vals that have Nan in those cols\n",
    "openfood_df.dropna(subset=['energy_100g', 'proteins_100g', 'salt_100g', 'sodium_100g', 'sugars_100g', 'carbohydrates_100g', 'fat_100g'], inplace=True)\n",
    "openfood_df.shape # (257375, 22) - 34945 rows"
   ]
  },
  {
   "cell_type": "code",
   "execution_count": 25,
   "metadata": {},
   "outputs": [],
   "source": [
    "# I have the same number of Nan for the ingredients_that_may_be_from_palm_oil_n/additives_n/ingredients_text/ingredients_from_palm_oil_n, lets see whats going on\n",
    "openfood_df[['ingredients_that_may_be_from_palm_oil_n', 'additives_n', 'ingredients_text', 'ingredients_from_palm_oil_n']]\n",
    "# replace with the median - more robust \n",
    "#openfood_df[['ingredients_that_may_be_from_palm_oil_n', 'ingredients_from_palm_oil_n']] = openfood_df[['ingredients_that_may_be_from_palm_oil_n', 'ingredients_from_palm_oil_n']].fillna(value=openfood_df[['ingredients_that_may_be_from_palm_oil_n', 'ingredients_from_palm_oil_n']].median(), inplace=True)\n",
    "\n",
    "openfood_df['ingredients_that_may_be_from_palm_oil_n'].fillna(value=openfood_df['ingredients_that_may_be_from_palm_oil_n'].median(), inplace=True)\n",
    "openfood_df['ingredients_from_palm_oil_n'].fillna(value=openfood_df['ingredients_from_palm_oil_n'].median(), inplace=True)\n",
    "openfood_df['additives_n'].fillna(value=openfood_df['additives_n'].median(), inplace=True)\n",
    "# replace ingredient text missing value with 'unknow'\n",
    "openfood_df['ingredients_text'].fillna(value='unknow', inplace=True)\n",
    "openfood_df['additives'].fillna(value='unknow', inplace=True)\n"
   ]
  },
  {
   "cell_type": "code",
   "execution_count": 26,
   "metadata": {},
   "outputs": [
    {
     "data": {
      "text/plain": [
       "(235776, 21)"
      ]
     },
     "execution_count": 26,
     "metadata": {},
     "output_type": "execute_result"
    }
   ],
   "source": [
    "# I am going to drop all the nan in the saturated-fat_100g, I have tried to predict them with a linear model but the R2 score was just above 50% so i don't want to fill\n",
    "# the column with wrong values\n",
    "# as I see there are a lot of nan in the serving_size column and we have the value for the food for 100g, the serving size may not be relevant here \n",
    "# so i will drop it\n",
    "\n",
    "openfood_df.dropna(subset=['saturated-fat_100g', 'nutrition_grade_fr', 'nutrition-score-fr_100g', 'nutrition-score-uk_100g'], inplace=True)\n",
    "openfood_df.drop('serving_size', axis=1, inplace=True)\n",
    "openfood_df.shape # (236738, 21) - 20637 rows"
   ]
  },
  {
   "cell_type": "code",
   "execution_count": 27,
   "metadata": {},
   "outputs": [
    {
     "data": {
      "text/plain": [
       "(195141, 21)"
      ]
     },
     "execution_count": 27,
     "metadata": {},
     "output_type": "execute_result"
    }
   ],
   "source": [
    "openfood_df.isnull().sum()  # so removing the fiber_100g missing value will get me 200_000 rows to work with which is fair for the rest of the work \n",
    "# I tried to see if i could do otherwise but replacing 40_000 rows with the median don't seem like a great idea\n",
    "# I am going to drop them\n",
    "openfood_df.dropna(subset=['fiber_100g'], inplace=True)\n",
    "openfood_df.shape # (195141, 21)"
   ]
  },
  {
   "cell_type": "markdown",
   "metadata": {},
   "source": [
    "### 1.c Duplicates"
   ]
  },
  {
   "cell_type": "code",
   "execution_count": 28,
   "metadata": {},
   "outputs": [],
   "source": [
    "# lets start with duplicates\n",
    "openfood_df.duplicated().sum() # 506 rows are similar, lets drop them\n",
    "openfood_df.drop_duplicates(inplace=True)"
   ]
  },
  {
   "cell_type": "code",
   "execution_count": 29,
   "metadata": {},
   "outputs": [
    {
     "data": {
      "text/plain": [
       "Index(['created_datetime', 'product_name', 'brands_tags', 'countries_en',\n",
       "       'ingredients_text', 'additives_n', 'additives',\n",
       "       'ingredients_from_palm_oil_n',\n",
       "       'ingredients_that_may_be_from_palm_oil_n', 'nutrition_grade_fr',\n",
       "       'energy_100g', 'fat_100g', 'saturated-fat_100g', 'carbohydrates_100g',\n",
       "       'sugars_100g', 'fiber_100g', 'proteins_100g', 'salt_100g',\n",
       "       'sodium_100g', 'nutrition-score-fr_100g', 'nutrition-score-uk_100g'],\n",
       "      dtype='object')"
      ]
     },
     "execution_count": 29,
     "metadata": {},
     "output_type": "execute_result"
    }
   ],
   "source": [
    "openfood_df.columns"
   ]
  },
  {
   "cell_type": "code",
   "execution_count": 30,
   "metadata": {},
   "outputs": [],
   "source": [
    "openfood_df.duplicated(['product_name', 'brands_tags', 'countries_en',\n",
    "       'ingredients_text', 'additives_n', 'additives',\n",
    "       'ingredients_from_palm_oil_n',\n",
    "       'ingredients_that_may_be_from_palm_oil_n', 'nutrition_grade_fr',\n",
    "       'energy_100g', 'fat_100g', 'saturated-fat_100g', 'carbohydrates_100g',\n",
    "       'sugars_100g', 'fiber_100g', 'proteins_100g', 'salt_100g',\n",
    "       'sodium_100g', 'nutrition-score-fr_100g', 'nutrition-score-uk_100g']).sum() # 1814\n",
    "\n",
    "# lets class them in date to keep the last ones\n",
    "openfood_df['created_datetime'] = pd.to_datetime(openfood_df['created_datetime']) # convert to date to sort them\n",
    "openfood_df.sort_values(by=['created_datetime'], inplace=True)\n",
    "openfood_df.drop_duplicates(['product_name', 'brands_tags', 'countries_en',\n",
    "       'ingredients_text', 'additives_n', 'additives',\n",
    "       'ingredients_from_palm_oil_n',\n",
    "       'ingredients_that_may_be_from_palm_oil_n', 'nutrition_grade_fr',\n",
    "       'energy_100g', 'fat_100g', 'saturated-fat_100g', 'carbohydrates_100g',\n",
    "       'sugars_100g', 'fiber_100g', 'proteins_100g', 'salt_100g',\n",
    "       'sodium_100g', 'nutrition-score-fr_100g', 'nutrition-score-uk_100g'], keep='last', inplace=True)"
   ]
  },
  {
   "cell_type": "code",
   "execution_count": 31,
   "metadata": {},
   "outputs": [],
   "source": [
    "# I want to check if the same product are duplicated but with different ingredient text and additive etc \n",
    "# I think that the formating of those is slightly different but that its still the same products \n",
    "\n",
    "duplicates_ingr = openfood_df.loc[openfood_df.duplicated(['product_name', 'brands_tags', 'countries_en',\n",
    "       'energy_100g', 'fat_100g', 'saturated-fat_100g', 'carbohydrates_100g',\n",
    "       'sugars_100g', 'fiber_100g', 'proteins_100g', 'salt_100g', 'nutrition_grade_fr', 'nutrition-score-fr_100g', 'nutrition-score-uk_100g',\n",
    "       'sodium_100g'], keep=False), :].copy()"
   ]
  },
  {
   "cell_type": "code",
   "execution_count": 32,
   "metadata": {},
   "outputs": [
    {
     "data": {
      "text/plain": [
       "(190128, 21)"
      ]
     },
     "execution_count": 32,
     "metadata": {},
     "output_type": "execute_result"
    }
   ],
   "source": [
    "# Indeed there are products that are the same but with slighly different ingredient text\n",
    "duplicates_ingr[(duplicates_ingr.product_name== 'Couscous grains moyens') & (duplicates_ingr.brands_tags== 'cora')]\n",
    "\n",
    "# I will remove ingredient text, additive etc to remove all the wrongly labeled duplicates \n",
    "openfood_df.drop_duplicates(['product_name', 'brands_tags', 'countries_en', 'energy_100g', 'fat_100g', 'saturated-fat_100g', 'carbohydrates_100g',\n",
    "       'sugars_100g', 'fiber_100g', 'proteins_100g', 'salt_100g', 'sodium_100g', 'nutrition_grade_fr', 'nutrition-score-fr_100g', 'nutrition-score-uk_100g'], \n",
    "                            keep='last', inplace=True)\n",
    "openfood_df.shape # (190128, 21) - 2693 rows"
   ]
  },
  {
   "cell_type": "code",
   "execution_count": 33,
   "metadata": {},
   "outputs": [
    {
     "name": "stdout",
     "output_type": "stream",
     "text": [
      "<class 'pandas.core.frame.DataFrame'>\n",
      "Int64Index: 190128 entries, 193716 to 321357\n",
      "Data columns (total 21 columns):\n",
      " #   Column                                   Non-Null Count   Dtype              \n",
      "---  ------                                   --------------   -----              \n",
      " 0   created_datetime                         190128 non-null  datetime64[ns, UTC]\n",
      " 1   product_name                             190128 non-null  object             \n",
      " 2   brands_tags                              190128 non-null  object             \n",
      " 3   countries_en                             190128 non-null  object             \n",
      " 4   ingredients_text                         190128 non-null  object             \n",
      " 5   additives_n                              190128 non-null  float64            \n",
      " 6   additives                                190128 non-null  object             \n",
      " 7   ingredients_from_palm_oil_n              190128 non-null  float64            \n",
      " 8   ingredients_that_may_be_from_palm_oil_n  190128 non-null  float64            \n",
      " 9   nutrition_grade_fr                       190128 non-null  object             \n",
      " 10  energy_100g                              190128 non-null  float64            \n",
      " 11  fat_100g                                 190128 non-null  float64            \n",
      " 12  saturated-fat_100g                       190128 non-null  float64            \n",
      " 13  carbohydrates_100g                       190128 non-null  float64            \n",
      " 14  sugars_100g                              190128 non-null  float64            \n",
      " 15  fiber_100g                               190128 non-null  float64            \n",
      " 16  proteins_100g                            190128 non-null  float64            \n",
      " 17  salt_100g                                190128 non-null  float64            \n",
      " 18  sodium_100g                              190128 non-null  float64            \n",
      " 19  nutrition-score-fr_100g                  190128 non-null  float64            \n",
      " 20  nutrition-score-uk_100g                  190128 non-null  float64            \n",
      "dtypes: datetime64[ns, UTC](1), float64(14), object(6)\n",
      "memory usage: 31.9+ MB\n"
     ]
    }
   ],
   "source": [
    "openfood_df.info()\n",
    "\n",
    "dict_dtypes = {'additives_n':'int64',\n",
    "              'ingredients_from_palm_oil_n':'int32',\n",
    "              'ingredients_that_may_be_from_palm_oil_n':'int32', \n",
    "              'nutrition-score-fr_100g': 'int64', \n",
    "              'nutrition-score-uk_100g': 'int64'}\n",
    "\n",
    "openfood_df= openfood_df.astype(dict_dtypes)"
   ]
  },
  {
   "cell_type": "markdown",
   "metadata": {},
   "source": [
    "### 1.d Detecting and filtering outliers\n",
    "\n",
    " - lets established what is a 'normal' value\n",
    "     - description of each feature \n",
    "     - plotting of each feature\n",
    " - find a way to measure deviations from that 'normal'\n",
    "      - with Z score or with a X number of time more than the stddev"
   ]
  },
  {
   "cell_type": "code",
   "execution_count": 34,
   "metadata": {},
   "outputs": [],
   "source": [
    "# lets start by creating a sub df with the cols with outliers \n",
    "include_cols =['float', 'int']\n",
    "list_cols_check = openfood_df.select_dtypes(include_cols).columns.to_list()"
   ]
  },
  {
   "cell_type": "code",
   "execution_count": 35,
   "metadata": {},
   "outputs": [
    {
     "data": {
      "image/png": "[encoded data removed]",
      "text/plain": [
       "<Figure size 1296x2016 with 14 Axes>"
      ]
     },
     "metadata": {
      "needs_background": "light"
     },
     "output_type": "display_data"
    }
   ],
   "source": [
    "fig,axes = plt.subplots(nrows=7,ncols=2,figsize=(18,7*4))\n",
    "\n",
    "for col, ax in zip(list_cols_check, axes.ravel()):\n",
    "    sns.boxplot(x= openfood_df[col], color='red', ax=ax)\n",
    "\n",
    "plt.tight_layout()\n",
    "\n",
    "# 1. there are incorrect values (more than 100 for 100g is incorrect, or negative vals) so i am going to start by removing those \n",
    "# 2. energy is actually in kJ so i'll need to find a coherent way to handle that\n",
    "# 3. I'll need to see if 3x the stddev is not reomving too much rows since i guess some ingredients with extreme values are still relevant to the steps after"
   ]
  },
  {
   "cell_type": "code",
   "execution_count": 36,
   "metadata": {},
   "outputs": [
    {
     "data": {
      "text/plain": [
       "(190054, 21)"
      ]
     },
     "execution_count": 36,
     "metadata": {},
     "output_type": "execute_result"
    }
   ],
   "source": [
    "# 1. incorrect values\n",
    "\n",
    "filter_ = ((openfood_df[['fat_100g', 'saturated-fat_100g', 'carbohydrates_100g', 'sugars_100g', 'fiber_100g','proteins_100g', 'salt_100g', 'sodium_100g']] > 100) | (openfood_df[['fat_100g', 'saturated-fat_100g', 'carbohydrates_100g', 'sugars_100g', 'fiber_100g','proteins_100g', 'salt_100g', 'sodium_100g']] < 0))\n",
    "filter_ = filter_.any(axis=1)\n",
    "outliers = openfood_df.loc[filter_, ['fat_100g', 'saturated-fat_100g', 'carbohydrates_100g', 'sugars_100g', 'fiber_100g','proteins_100g', 'salt_100g', 'sodium_100g']]\n",
    "outliers\n",
    "openfood_df = openfood_df.drop(outliers.index, axis=0)\n",
    "openfood_df.shape # (190054, 21) - 74 rows"
   ]
  },
  {
   "cell_type": "code",
   "execution_count": 37,
   "metadata": {},
   "outputs": [
    {
     "data": {
      "text/plain": [
       "(190040, 21)"
      ]
     },
     "execution_count": 37,
     "metadata": {},
     "output_type": "execute_result"
    }
   ],
   "source": [
    "# 2. lets take a closer look at energy\n",
    "\n",
    "filter_kj = openfood_df.energy_100g > 5_000 # before 5000 kj there are the oil and butter which make sense so i'll remove from 5000\n",
    "outliers = openfood_df.loc[filter_kj, :]\n",
    "openfood_df.drop(outliers.index, axis=0, inplace=True)\n",
    "openfood_df.shape # (190040, 21)"
   ]
  },
  {
   "cell_type": "code",
   "execution_count": 38,
   "metadata": {},
   "outputs": [],
   "source": [
    "# 3. now lets see if i can remove outliers everywhere else\n",
    "\n",
    "# I already know that additives_n/ingredient from palm oil are fine\n",
    "list_cols_check.remove('additives_n')\n",
    "list_cols_check.remove('ingredients_from_palm_oil_n')\n",
    "list_cols_check.remove('ingredients_that_may_be_from_palm_oil_n')\n",
    "\n",
    "# sodium and salt look similar --> there are the same indeed, lets drop sodium\n",
    "openfood_df.drop('sodium_100g', axis=1, inplace=True)\n",
    "list_cols_check.remove('sodium_100g')\n",
    "\n",
    "# possible to have negative score in nutrition score ?\n",
    "# yes it is! https://www.colruytgroup.com/en/conscious-consuming/nutri-score\n",
    "list_cols_check.remove('nutrition-score-fr_100g')\n",
    "list_cols_check.remove('nutrition-score-uk_100g')"
   ]
  },
  {
   "cell_type": "code",
   "execution_count": 39,
   "metadata": {},
   "outputs": [
    {
     "data": {
      "text/html": [
       "<div>\n",
       "<style scoped>\n",
       "    .dataframe tbody tr th:only-of-type {\n",
       "        vertical-align: middle;\n",
       "    }\n",
       "\n",
       "    .dataframe tbody tr th {\n",
       "        vertical-align: top;\n",
       "    }\n",
       "\n",
       "    .dataframe thead th {\n",
       "        text-align: right;\n",
       "    }\n",
       "</style>\n",
       "<table border=\"1\" class=\"dataframe\">\n",
       "  <thead>\n",
       "    <tr style=\"text-align: right;\">\n",
       "      <th></th>\n",
       "      <th>count</th>\n",
       "      <th>mean</th>\n",
       "      <th>std</th>\n",
       "      <th>min</th>\n",
       "      <th>25%</th>\n",
       "      <th>50%</th>\n",
       "      <th>75%</th>\n",
       "      <th>max</th>\n",
       "    </tr>\n",
       "  </thead>\n",
       "  <tbody>\n",
       "    <tr>\n",
       "      <th>energy_100g</th>\n",
       "      <td>190040.0</td>\n",
       "      <td>1181.014380</td>\n",
       "      <td>758.560910</td>\n",
       "      <td>0.0</td>\n",
       "      <td>448.00</td>\n",
       "      <td>1197.000</td>\n",
       "      <td>1732.00000</td>\n",
       "      <td>4707.0</td>\n",
       "    </tr>\n",
       "    <tr>\n",
       "      <th>fat_100g</th>\n",
       "      <td>190040.0</td>\n",
       "      <td>12.960517</td>\n",
       "      <td>15.776203</td>\n",
       "      <td>0.0</td>\n",
       "      <td>0.88</td>\n",
       "      <td>6.980</td>\n",
       "      <td>21.00000</td>\n",
       "      <td>100.0</td>\n",
       "    </tr>\n",
       "    <tr>\n",
       "      <th>saturated-fat_100g</th>\n",
       "      <td>190040.0</td>\n",
       "      <td>4.610547</td>\n",
       "      <td>7.050416</td>\n",
       "      <td>0.0</td>\n",
       "      <td>0.00</td>\n",
       "      <td>1.650</td>\n",
       "      <td>6.67000</td>\n",
       "      <td>100.0</td>\n",
       "    </tr>\n",
       "    <tr>\n",
       "      <th>carbohydrates_100g</th>\n",
       "      <td>190040.0</td>\n",
       "      <td>34.131769</td>\n",
       "      <td>28.094615</td>\n",
       "      <td>0.0</td>\n",
       "      <td>7.93</td>\n",
       "      <td>25.995</td>\n",
       "      <td>60.00000</td>\n",
       "      <td>100.0</td>\n",
       "    </tr>\n",
       "    <tr>\n",
       "      <th>sugars_100g</th>\n",
       "      <td>190040.0</td>\n",
       "      <td>14.761349</td>\n",
       "      <td>19.248094</td>\n",
       "      <td>0.0</td>\n",
       "      <td>1.47</td>\n",
       "      <td>5.200</td>\n",
       "      <td>22.99250</td>\n",
       "      <td>100.0</td>\n",
       "    </tr>\n",
       "    <tr>\n",
       "      <th>fiber_100g</th>\n",
       "      <td>190040.0</td>\n",
       "      <td>2.878551</td>\n",
       "      <td>4.494651</td>\n",
       "      <td>0.0</td>\n",
       "      <td>0.00</td>\n",
       "      <td>1.600</td>\n",
       "      <td>3.60000</td>\n",
       "      <td>100.0</td>\n",
       "    </tr>\n",
       "    <tr>\n",
       "      <th>proteins_100g</th>\n",
       "      <td>190040.0</td>\n",
       "      <td>7.693913</td>\n",
       "      <td>8.012350</td>\n",
       "      <td>0.0</td>\n",
       "      <td>2.00</td>\n",
       "      <td>5.700</td>\n",
       "      <td>10.71000</td>\n",
       "      <td>100.0</td>\n",
       "    </tr>\n",
       "    <tr>\n",
       "      <th>salt_100g</th>\n",
       "      <td>190040.0</td>\n",
       "      <td>1.216631</td>\n",
       "      <td>3.946101</td>\n",
       "      <td>0.0</td>\n",
       "      <td>0.10</td>\n",
       "      <td>0.635</td>\n",
       "      <td>1.31572</td>\n",
       "      <td>100.0</td>\n",
       "    </tr>\n",
       "  </tbody>\n",
       "</table>\n",
       "</div>"
      ],
      "text/plain": [
       "                       count         mean         std  min     25%       50%  \\\n",
       "energy_100g         190040.0  1181.014380  758.560910  0.0  448.00  1197.000   \n",
       "fat_100g            190040.0    12.960517   15.776203  0.0    0.88     6.980   \n",
       "saturated-fat_100g  190040.0     4.610547    7.050416  0.0    0.00     1.650   \n",
       "carbohydrates_100g  190040.0    34.131769   28.094615  0.0    7.93    25.995   \n",
       "sugars_100g         190040.0    14.761349   19.248094  0.0    1.47     5.200   \n",
       "fiber_100g          190040.0     2.878551    4.494651  0.0    0.00     1.600   \n",
       "proteins_100g       190040.0     7.693913    8.012350  0.0    2.00     5.700   \n",
       "salt_100g           190040.0     1.216631    3.946101  0.0    0.10     0.635   \n",
       "\n",
       "                           75%     max  \n",
       "energy_100g         1732.00000  4707.0  \n",
       "fat_100g              21.00000   100.0  \n",
       "saturated-fat_100g     6.67000   100.0  \n",
       "carbohydrates_100g    60.00000   100.0  \n",
       "sugars_100g           22.99250   100.0  \n",
       "fiber_100g             3.60000   100.0  \n",
       "proteins_100g         10.71000   100.0  \n",
       "salt_100g              1.31572   100.0  "
      ]
     },
     "execution_count": 39,
     "metadata": {},
     "output_type": "execute_result"
    }
   ],
   "source": [
    "# 3.b now the rest \n",
    "\n",
    "openfood_df[list_cols_check].describe().T"
   ]
  },
  {
   "cell_type": "code",
   "execution_count": 40,
   "metadata": {},
   "outputs": [
    {
     "data": {
      "text/plain": [
       "(186073, 20)"
      ]
     },
     "execution_count": 40,
     "metadata": {},
     "output_type": "execute_result"
    }
   ],
   "source": [
    "zscores_df = (openfood_df[list_cols_check] - openfood_df[list_cols_check].mean()) / (openfood_df[list_cols_check].std())\n",
    "zscores_df = np.abs(zscores_df) > 5  # There are 13989 rows outside of the 3x stddev which is about 7% of the data, i'll take 5x the stddev which makes 2%\n",
    "zscores_df = zscores_df.any(axis=1)\n",
    "\n",
    "outliers = openfood_df.loc[zscores_df, list_cols_check] # There are 13989 rows outside of the 3x stddev which is about 7% of the data\n",
    "openfood_df.drop(outliers.index, axis=0, inplace=True)\n",
    "openfood_df.shape #(186073, 20)"
   ]
  },
  {
   "cell_type": "code",
   "execution_count": 41,
   "metadata": {},
   "outputs": [
    {
     "data": {
      "image/png": "[encoded data removed]",
      "text/plain": [
       "<Figure size 1296x576 with 8 Axes>"
      ]
     },
     "metadata": {
      "needs_background": "light"
     },
     "output_type": "display_data"
    }
   ],
   "source": [
    "fig,axes = plt.subplots(nrows=2,ncols=4,figsize=(18,2*4))\n",
    "\n",
    "for col, ax in zip(list_cols_check, axes.ravel()):\n",
    "    sns.violinplot(x= openfood_df[col], color='green', ax=ax)\n",
    "\n",
    "plt.tight_layout()"
   ]
  },
  {
   "cell_type": "markdown",
   "metadata": {},
   "source": [
    "### 1.e Cleaning the text-data"
   ]
  },
  {
   "cell_type": "code",
   "execution_count": 42,
   "metadata": {},
   "outputs": [
    {
     "data": {
      "text/html": [
       "<div>\n",
       "<style scoped>\n",
       "    .dataframe tbody tr th:only-of-type {\n",
       "        vertical-align: middle;\n",
       "    }\n",
       "\n",
       "    .dataframe tbody tr th {\n",
       "        vertical-align: top;\n",
       "    }\n",
       "\n",
       "    .dataframe thead th {\n",
       "        text-align: right;\n",
       "    }\n",
       "</style>\n",
       "<table border=\"1\" class=\"dataframe\">\n",
       "  <thead>\n",
       "    <tr style=\"text-align: right;\">\n",
       "      <th></th>\n",
       "      <th>product_name</th>\n",
       "      <th>brands_tags</th>\n",
       "      <th>countries_en</th>\n",
       "      <th>ingredients_text</th>\n",
       "      <th>additives</th>\n",
       "      <th>nutrition_grade_fr</th>\n",
       "    </tr>\n",
       "  </thead>\n",
       "  <tbody>\n",
       "    <tr>\n",
       "      <th>193716</th>\n",
       "      <td>Jacquet Les bouchées créatives à garnir</td>\n",
       "      <td>jacquet</td>\n",
       "      <td>France</td>\n",
       "      <td>Farine de blé, huile de tournesol, eau, sel, s...</td>\n",
       "      <td>[ farine-de-ble -&gt; fr:farine-de-ble  ]  [ far...</td>\n",
       "      <td>c</td>\n",
       "    </tr>\n",
       "    <tr>\n",
       "      <th>222043</th>\n",
       "      <td>Boudoirs</td>\n",
       "      <td>cora</td>\n",
       "      <td>France</td>\n",
       "      <td>Sucre - farine de _blé_ - _œufs_ frais 25 % - ...</td>\n",
       "      <td>[ sucre -&gt; fr:sucre  ]  [ farine-de-ble -&gt; fr...</td>\n",
       "      <td>d</td>\n",
       "    </tr>\n",
       "    <tr>\n",
       "      <th>201869</th>\n",
       "      <td>Cookies tout chocolat Biocoop</td>\n",
       "      <td>biocoop</td>\n",
       "      <td>France</td>\n",
       "      <td>pépites de chocolat* 30 % (pâte de cacao*, suc...</td>\n",
       "      <td>[ pepites-de-chocolat-30 -&gt; fr:pepites-de-cho...</td>\n",
       "      <td>e</td>\n",
       "    </tr>\n",
       "    <tr>\n",
       "      <th>196094</th>\n",
       "      <td>Noisettes Entières</td>\n",
       "      <td>milka,mondelez</td>\n",
       "      <td>France,Germany</td>\n",
       "      <td>Sucre, _Noisettes_ 20%, beurre de cacao, poudr...</td>\n",
       "      <td>[ sucre -&gt; fr:sucre  ]  [ noisettes-20 -&gt; fr:...</td>\n",
       "      <td>e</td>\n",
       "    </tr>\n",
       "    <tr>\n",
       "      <th>321122</th>\n",
       "      <td>SMACZNA ZUPA Grochova</td>\n",
       "      <td>winiary,nestle</td>\n",
       "      <td>Poland</td>\n",
       "      <td>mąka grochowa (63.6%), grzanki (9.5%) (mąka pr...</td>\n",
       "      <td>[ mąka-grochowa -&gt; pl:mąka-grochowa  ]  [ 63-...</td>\n",
       "      <td>c</td>\n",
       "    </tr>\n",
       "    <tr>\n",
       "      <th>...</th>\n",
       "      <td>...</td>\n",
       "      <td>...</td>\n",
       "      <td>...</td>\n",
       "      <td>...</td>\n",
       "      <td>...</td>\n",
       "      <td>...</td>\n",
       "    </tr>\n",
       "    <tr>\n",
       "      <th>355732</th>\n",
       "      <td>Express Cup Fried Onion Chicken</td>\n",
       "      <td>mamee</td>\n",
       "      <td>France</td>\n",
       "      <td>NOODLE flour, Palm oil, Modified sait StablTtz...</td>\n",
       "      <td>[ noodle-flour -&gt; fr:noodle-flour  ]  [ noodl...</td>\n",
       "      <td>d</td>\n",
       "    </tr>\n",
       "    <tr>\n",
       "      <th>249132</th>\n",
       "      <td>Chocolat Caramel Et Sel De Saint-lu Mascarin</td>\n",
       "      <td>mascarin</td>\n",
       "      <td>France</td>\n",
       "      <td>chocolat au lait (cacao 33% minimum) : sucre, ...</td>\n",
       "      <td>[ chocolat-au-lait -&gt; fr:chocolat-au-lait  ] ...</td>\n",
       "      <td>e</td>\n",
       "    </tr>\n",
       "    <tr>\n",
       "      <th>328676</th>\n",
       "      <td>Alpen milch</td>\n",
       "      <td>milka,mondelez</td>\n",
       "      <td>Serbia</td>\n",
       "      <td>Šećer, kakao maslac, obrano _mleko_ u prahu, k...</td>\n",
       "      <td>[ šećer -&gt; sr:šećer  ]  [ kakao-maslac -&gt; sr:...</td>\n",
       "      <td>e</td>\n",
       "    </tr>\n",
       "    <tr>\n",
       "      <th>300814</th>\n",
       "      <td>Drink Me Chai - Spiced Chai</td>\n",
       "      <td>drink-me</td>\n",
       "      <td>France</td>\n",
       "      <td>Sugar, Skimmed Milk Powder (1 9%), Coconut Oil...</td>\n",
       "      <td>[ sugar -&gt; fr:sugar  ]  [ skimmed-milk-powder...</td>\n",
       "      <td>e</td>\n",
       "    </tr>\n",
       "    <tr>\n",
       "      <th>321357</th>\n",
       "      <td>Nestle Smarties Candy</td>\n",
       "      <td>nestle</td>\n",
       "      <td>France</td>\n",
       "      <td>Sugar, Cocoa butter, Skimmed milk powder, Coco...</td>\n",
       "      <td>[ sugar -&gt; fr:sugar  ]  [ cocoa-butter -&gt; fr:...</td>\n",
       "      <td>e</td>\n",
       "    </tr>\n",
       "  </tbody>\n",
       "</table>\n",
       "<p>186073 rows × 6 columns</p>\n",
       "</div>"
      ],
      "text/plain": [
       "                                        product_name     brands_tags  \\\n",
       "193716       Jacquet Les bouchées créatives à garnir         jacquet   \n",
       "222043                                      Boudoirs            cora   \n",
       "201869                 Cookies tout chocolat Biocoop         biocoop   \n",
       "196094                            Noisettes Entières  milka,mondelez   \n",
       "321122                         SMACZNA ZUPA Grochova  winiary,nestle   \n",
       "...                                              ...             ...   \n",
       "355732               Express Cup Fried Onion Chicken           mamee   \n",
       "249132  Chocolat Caramel Et Sel De Saint-lu Mascarin        mascarin   \n",
       "328676                                   Alpen milch  milka,mondelez   \n",
       "300814                   Drink Me Chai - Spiced Chai        drink-me   \n",
       "321357                         Nestle Smarties Candy          nestle   \n",
       "\n",
       "          countries_en                                   ingredients_text  \\\n",
       "193716          France  Farine de blé, huile de tournesol, eau, sel, s...   \n",
       "222043          France  Sucre - farine de _blé_ - _œufs_ frais 25 % - ...   \n",
       "201869          France  pépites de chocolat* 30 % (pâte de cacao*, suc...   \n",
       "196094  France,Germany  Sucre, _Noisettes_ 20%, beurre de cacao, poudr...   \n",
       "321122          Poland  mąka grochowa (63.6%), grzanki (9.5%) (mąka pr...   \n",
       "...                ...                                                ...   \n",
       "355732          France  NOODLE flour, Palm oil, Modified sait StablTtz...   \n",
       "249132          France  chocolat au lait (cacao 33% minimum) : sucre, ...   \n",
       "328676          Serbia  Šećer, kakao maslac, obrano _mleko_ u prahu, k...   \n",
       "300814          France  Sugar, Skimmed Milk Powder (1 9%), Coconut Oil...   \n",
       "321357          France  Sugar, Cocoa butter, Skimmed milk powder, Coco...   \n",
       "\n",
       "                                                additives nutrition_grade_fr  \n",
       "193716   [ farine-de-ble -> fr:farine-de-ble  ]  [ far...                  c  \n",
       "222043   [ sucre -> fr:sucre  ]  [ farine-de-ble -> fr...                  d  \n",
       "201869   [ pepites-de-chocolat-30 -> fr:pepites-de-cho...                  e  \n",
       "196094   [ sucre -> fr:sucre  ]  [ noisettes-20 -> fr:...                  e  \n",
       "321122   [ mąka-grochowa -> pl:mąka-grochowa  ]  [ 63-...                  c  \n",
       "...                                                   ...                ...  \n",
       "355732   [ noodle-flour -> fr:noodle-flour  ]  [ noodl...                  d  \n",
       "249132   [ chocolat-au-lait -> fr:chocolat-au-lait  ] ...                  e  \n",
       "328676   [ šećer -> sr:šećer  ]  [ kakao-maslac -> sr:...                  e  \n",
       "300814   [ sugar -> fr:sugar  ]  [ skimmed-milk-powder...                  e  \n",
       "321357   [ sugar -> fr:sugar  ]  [ cocoa-butter -> fr:...                  e  \n",
       "\n",
       "[186073 rows x 6 columns]"
      ]
     },
     "execution_count": 42,
     "metadata": {},
     "output_type": "execute_result"
    }
   ],
   "source": [
    "include = 'object'\n",
    "list_obj_check = openfood_df.select_dtypes(include).columns.to_list()\n",
    "openfood_df[list_obj_check]"
   ]
  },
  {
   "cell_type": "code",
   "execution_count": 43,
   "metadata": {},
   "outputs": [],
   "source": [
    "# lets lower the countries\n",
    "openfood_df.product_name = openfood_df.product_name.str.lower()\n",
    "openfood_df.brands_tags = openfood_df.brands_tags.str.lower()\n",
    "openfood_df.countries_en = openfood_df.countries_en.str.lower()\n",
    "openfood_df['nutrition_grade_fr'].value_counts() # all lower case so all good\n",
    "openfood_df.ingredients_text = openfood_df.ingredients_text.str.lower()"
   ]
  },
  {
   "cell_type": "code",
   "execution_count": 44,
   "metadata": {},
   "outputs": [],
   "source": [
    "additives = openfood_df['additives']\n",
    "# lets extract the language use in case I want to translate \n",
    "openfood_df['language_ingredients'] = additives.str.extract('->\\s(\\w\\w*?):')\n",
    "openfood_df['additives'] = additives.str.findall(':(\\w+-*\\w*-*\\w*-*\\w*-*\\w*-*\\w*)')"
   ]
  },
  {
   "cell_type": "code",
   "execution_count": 45,
   "metadata": {},
   "outputs": [],
   "source": [
    "# finally lets drop the index and save the new clean dataset!\n",
    "openfood_df.reset_index(drop=True, inplace=True)\n",
    "openfood_df.to_csv(\"FoodFactCleaned.csv\", encoding = 'utf-8', index=False)"
   ]
  },
  {
   "cell_type": "code",
   "execution_count": 46,
   "metadata": {},
   "outputs": [],
   "source": [
    "### I am going to try to clean and translate the ingredient, as it is need all the space available i will delete all other var in the env\n",
    "%reset -f"
   ]
  },
  {
   "cell_type": "code",
   "execution_count": 47,
   "metadata": {},
   "outputs": [],
   "source": [
    "# !pip3 install googletrans==3.1.0a0\n",
    "# !pip3 install tqdm\n",
    "import numpy as np\n",
    "import pandas as pd\n",
    "import seaborn as sns\n",
    "import matplotlib.pyplot as plt\n",
    "%matplotlib inline\n",
    "import googletrans\n",
    "from googletrans import Translator, constants\n",
    "import statistics\n",
    "from statistics import mode\n",
    "from tqdm import tqdm\n",
    "import httpx\n",
    "\n",
    "openfood_df = pd.read_csv('FoodFactCleaned.csv')"
   ]
  },
  {
   "cell_type": "code",
   "execution_count": 48,
   "metadata": {},
   "outputs": [],
   "source": [
    "# after the first try, i was reminded that some ingredient have the 'unknow' val that translated into nan in the language\n",
    "openfood_df['language_ingredients'].fillna(value='unknow', inplace=True)"
   ]
  },
  {
   "cell_type": "code",
   "execution_count": 49,
   "metadata": {},
   "outputs": [
    {
     "data": {
      "text/html": [
       "<div>\n",
       "<style scoped>\n",
       "    .dataframe tbody tr th:only-of-type {\n",
       "        vertical-align: middle;\n",
       "    }\n",
       "\n",
       "    .dataframe tbody tr th {\n",
       "        vertical-align: top;\n",
       "    }\n",
       "\n",
       "    .dataframe thead th {\n",
       "        text-align: right;\n",
       "    }\n",
       "</style>\n",
       "<table border=\"1\" class=\"dataframe\">\n",
       "  <thead>\n",
       "    <tr style=\"text-align: right;\">\n",
       "      <th></th>\n",
       "      <th>created_datetime</th>\n",
       "      <th>product_name</th>\n",
       "      <th>brands_tags</th>\n",
       "      <th>countries_en</th>\n",
       "      <th>ingredients_text</th>\n",
       "      <th>additives_n</th>\n",
       "      <th>additives</th>\n",
       "      <th>ingredients_from_palm_oil_n</th>\n",
       "      <th>ingredients_that_may_be_from_palm_oil_n</th>\n",
       "      <th>nutrition_grade_fr</th>\n",
       "      <th>...</th>\n",
       "      <th>fat_100g</th>\n",
       "      <th>saturated-fat_100g</th>\n",
       "      <th>carbohydrates_100g</th>\n",
       "      <th>sugars_100g</th>\n",
       "      <th>fiber_100g</th>\n",
       "      <th>proteins_100g</th>\n",
       "      <th>salt_100g</th>\n",
       "      <th>nutrition-score-fr_100g</th>\n",
       "      <th>nutrition-score-uk_100g</th>\n",
       "      <th>language_ingredients</th>\n",
       "    </tr>\n",
       "  </thead>\n",
       "  <tbody>\n",
       "    <tr>\n",
       "      <th>0</th>\n",
       "      <td>2012-02-09 10:34:56+00:00</td>\n",
       "      <td>jacquet les bouchées créatives à garnir</td>\n",
       "      <td>jacquet</td>\n",
       "      <td>france</td>\n",
       "      <td>farine de blé, huile de tournesol, eau, sel, s...</td>\n",
       "      <td>1</td>\n",
       "      <td>['farine-de-ble', 'farine-de', 'farine', 'huil...</td>\n",
       "      <td>0</td>\n",
       "      <td>0</td>\n",
       "      <td>c</td>\n",
       "      <td>...</td>\n",
       "      <td>15.5</td>\n",
       "      <td>1.30</td>\n",
       "      <td>68.0</td>\n",
       "      <td>2.0</td>\n",
       "      <td>3.0</td>\n",
       "      <td>8.5</td>\n",
       "      <td>1.75260</td>\n",
       "      <td>9</td>\n",
       "      <td>9</td>\n",
       "      <td>fr</td>\n",
       "    </tr>\n",
       "    <tr>\n",
       "      <th>1</th>\n",
       "      <td>2012-02-11 14:51:07+00:00</td>\n",
       "      <td>boudoirs</td>\n",
       "      <td>cora</td>\n",
       "      <td>france</td>\n",
       "      <td>sucre - farine de _blé_ - _œufs_ frais 25 % - ...</td>\n",
       "      <td>2</td>\n",
       "      <td>['sucre', 'farine-de-ble', 'farine-de', 'farin...</td>\n",
       "      <td>0</td>\n",
       "      <td>0</td>\n",
       "      <td>d</td>\n",
       "      <td>...</td>\n",
       "      <td>3.2</td>\n",
       "      <td>1.20</td>\n",
       "      <td>80.4</td>\n",
       "      <td>51.8</td>\n",
       "      <td>1.6</td>\n",
       "      <td>6.9</td>\n",
       "      <td>0.09000</td>\n",
       "      <td>13</td>\n",
       "      <td>13</td>\n",
       "      <td>fr</td>\n",
       "    </tr>\n",
       "    <tr>\n",
       "      <th>2</th>\n",
       "      <td>2012-02-11 18:51:58+00:00</td>\n",
       "      <td>cookies tout chocolat biocoop</td>\n",
       "      <td>biocoop</td>\n",
       "      <td>france</td>\n",
       "      <td>pépites de chocolat* 30 % (pâte de cacao*, suc...</td>\n",
       "      <td>2</td>\n",
       "      <td>['pepites-de-chocolat-30', 'pepites-de-chocola...</td>\n",
       "      <td>1</td>\n",
       "      <td>0</td>\n",
       "      <td>e</td>\n",
       "      <td>...</td>\n",
       "      <td>25.0</td>\n",
       "      <td>14.00</td>\n",
       "      <td>56.0</td>\n",
       "      <td>33.0</td>\n",
       "      <td>5.5</td>\n",
       "      <td>7.0</td>\n",
       "      <td>0.38100</td>\n",
       "      <td>19</td>\n",
       "      <td>19</td>\n",
       "      <td>fr</td>\n",
       "    </tr>\n",
       "    <tr>\n",
       "      <th>3</th>\n",
       "      <td>2012-02-12 08:32:47+00:00</td>\n",
       "      <td>noisettes entières</td>\n",
       "      <td>milka,mondelez</td>\n",
       "      <td>france,germany</td>\n",
       "      <td>sucre, _noisettes_ 20%, beurre de cacao, poudr...</td>\n",
       "      <td>1</td>\n",
       "      <td>['sucre', 'noisettes-20', 'noisettes', 'beurre...</td>\n",
       "      <td>0</td>\n",
       "      <td>0</td>\n",
       "      <td>e</td>\n",
       "      <td>...</td>\n",
       "      <td>35.5</td>\n",
       "      <td>15.00</td>\n",
       "      <td>48.5</td>\n",
       "      <td>47.0</td>\n",
       "      <td>3.3</td>\n",
       "      <td>8.1</td>\n",
       "      <td>0.36000</td>\n",
       "      <td>23</td>\n",
       "      <td>23</td>\n",
       "      <td>fr</td>\n",
       "    </tr>\n",
       "    <tr>\n",
       "      <th>4</th>\n",
       "      <td>2012-02-12 08:51:55+00:00</td>\n",
       "      <td>smaczna zupa grochova</td>\n",
       "      <td>winiary,nestle</td>\n",
       "      <td>poland</td>\n",
       "      <td>mąka grochowa (63.6%), grzanki (9.5%) (mąka pr...</td>\n",
       "      <td>3</td>\n",
       "      <td>['mąka-grochowa', '63-6', 'grzanki', '9-5', 'm...</td>\n",
       "      <td>0</td>\n",
       "      <td>0</td>\n",
       "      <td>c</td>\n",
       "      <td>...</td>\n",
       "      <td>0.8</td>\n",
       "      <td>0.30</td>\n",
       "      <td>5.5</td>\n",
       "      <td>0.4</td>\n",
       "      <td>0.7</td>\n",
       "      <td>1.8</td>\n",
       "      <td>1.01600</td>\n",
       "      <td>3</td>\n",
       "      <td>3</td>\n",
       "      <td>pl</td>\n",
       "    </tr>\n",
       "    <tr>\n",
       "      <th>5</th>\n",
       "      <td>2012-03-17 15:39:23+00:00</td>\n",
       "      <td>jus d'orange des tropiques</td>\n",
       "      <td>royal</td>\n",
       "      <td>france</td>\n",
       "      <td>jus d'orange teneur en fruits 100 %.</td>\n",
       "      <td>0</td>\n",
       "      <td>['jus-d-orange-teneur-en-fruits', 'jus-d-orang...</td>\n",
       "      <td>0</td>\n",
       "      <td>0</td>\n",
       "      <td>c</td>\n",
       "      <td>...</td>\n",
       "      <td>0.1</td>\n",
       "      <td>0.05</td>\n",
       "      <td>10.5</td>\n",
       "      <td>9.2</td>\n",
       "      <td>0.5</td>\n",
       "      <td>0.6</td>\n",
       "      <td>0.00508</td>\n",
       "      <td>4</td>\n",
       "      <td>-3</td>\n",
       "      <td>fr</td>\n",
       "    </tr>\n",
       "    <tr>\n",
       "      <th>6</th>\n",
       "      <td>2012-03-17 15:49:45+00:00</td>\n",
       "      <td>coquillette</td>\n",
       "      <td>grand-jury,cmi-carrefour-marchandises-internat...</td>\n",
       "      <td>france</td>\n",
       "      <td>semoule de blé dur de qualité supérieure.</td>\n",
       "      <td>0</td>\n",
       "      <td>['semoule-de-ble-dur-de-qualite', 'semoule-de-...</td>\n",
       "      <td>0</td>\n",
       "      <td>0</td>\n",
       "      <td>a</td>\n",
       "      <td>...</td>\n",
       "      <td>2.0</td>\n",
       "      <td>0.50</td>\n",
       "      <td>68.0</td>\n",
       "      <td>3.5</td>\n",
       "      <td>3.0</td>\n",
       "      <td>12.0</td>\n",
       "      <td>0.02540</td>\n",
       "      <td>-5</td>\n",
       "      <td>-5</td>\n",
       "      <td>fr</td>\n",
       "    </tr>\n",
       "    <tr>\n",
       "      <th>7</th>\n",
       "      <td>2012-03-17 19:27:02+00:00</td>\n",
       "      <td>bn pocket - céréales complètes - vanille</td>\n",
       "      <td>bn</td>\n",
       "      <td>france</td>\n",
       "      <td>céréales (farine de froment (31%), céréales co...</td>\n",
       "      <td>3</td>\n",
       "      <td>['cereales', 'farine-de-froment', 'farine-de',...</td>\n",
       "      <td>0</td>\n",
       "      <td>1</td>\n",
       "      <td>e</td>\n",
       "      <td>...</td>\n",
       "      <td>18.0</td>\n",
       "      <td>10.30</td>\n",
       "      <td>70.3</td>\n",
       "      <td>36.1</td>\n",
       "      <td>2.4</td>\n",
       "      <td>6.0</td>\n",
       "      <td>0.55880</td>\n",
       "      <td>22</td>\n",
       "      <td>22</td>\n",
       "      <td>fr</td>\n",
       "    </tr>\n",
       "    <tr>\n",
       "      <th>8</th>\n",
       "      <td>2012-03-17 21:45:03+00:00</td>\n",
       "      <td>riz rond blanc de camargue</td>\n",
       "      <td>nos-regions-ont-du-talent,leclerc</td>\n",
       "      <td>france</td>\n",
       "      <td>riz rond blanc 100%</td>\n",
       "      <td>0</td>\n",
       "      <td>['riz-rond-blanc-100', 'riz-rond-blanc', 'riz-...</td>\n",
       "      <td>0</td>\n",
       "      <td>0</td>\n",
       "      <td>a</td>\n",
       "      <td>...</td>\n",
       "      <td>0.5</td>\n",
       "      <td>0.00</td>\n",
       "      <td>78.0</td>\n",
       "      <td>0.0</td>\n",
       "      <td>1.0</td>\n",
       "      <td>7.5</td>\n",
       "      <td>0.00000</td>\n",
       "      <td>-1</td>\n",
       "      <td>-1</td>\n",
       "      <td>fr</td>\n",
       "    </tr>\n",
       "    <tr>\n",
       "      <th>9</th>\n",
       "      <td>2012-03-18 12:16:58+00:00</td>\n",
       "      <td>nectar tropical</td>\n",
       "      <td>royal</td>\n",
       "      <td>france</td>\n",
       "      <td>eau, purée de goyave, jus d'orange à base de j...</td>\n",
       "      <td>0</td>\n",
       "      <td>['eau', 'puree-de-goyave', 'puree-de', 'puree'...</td>\n",
       "      <td>0</td>\n",
       "      <td>0</td>\n",
       "      <td>e</td>\n",
       "      <td>...</td>\n",
       "      <td>0.1</td>\n",
       "      <td>0.02</td>\n",
       "      <td>12.4</td>\n",
       "      <td>10.5</td>\n",
       "      <td>0.5</td>\n",
       "      <td>0.3</td>\n",
       "      <td>0.00762</td>\n",
       "      <td>14</td>\n",
       "      <td>2</td>\n",
       "      <td>fr</td>\n",
       "    </tr>\n",
       "  </tbody>\n",
       "</table>\n",
       "<p>10 rows × 21 columns</p>\n",
       "</div>"
      ],
      "text/plain": [
       "            created_datetime                              product_name  \\\n",
       "0  2012-02-09 10:34:56+00:00   jacquet les bouchées créatives à garnir   \n",
       "1  2012-02-11 14:51:07+00:00                                  boudoirs   \n",
       "2  2012-02-11 18:51:58+00:00             cookies tout chocolat biocoop   \n",
       "3  2012-02-12 08:32:47+00:00                        noisettes entières   \n",
       "4  2012-02-12 08:51:55+00:00                     smaczna zupa grochova   \n",
       "5  2012-03-17 15:39:23+00:00                jus d'orange des tropiques   \n",
       "6  2012-03-17 15:49:45+00:00                              coquillette    \n",
       "7  2012-03-17 19:27:02+00:00  bn pocket - céréales complètes - vanille   \n",
       "8  2012-03-17 21:45:03+00:00                riz rond blanc de camargue   \n",
       "9  2012-03-18 12:16:58+00:00                           nectar tropical   \n",
       "\n",
       "                                         brands_tags    countries_en  \\\n",
       "0                                            jacquet          france   \n",
       "1                                               cora          france   \n",
       "2                                            biocoop          france   \n",
       "3                                     milka,mondelez  france,germany   \n",
       "4                                     winiary,nestle          poland   \n",
       "5                                              royal          france   \n",
       "6  grand-jury,cmi-carrefour-marchandises-internat...          france   \n",
       "7                                                 bn          france   \n",
       "8                  nos-regions-ont-du-talent,leclerc          france   \n",
       "9                                              royal          france   \n",
       "\n",
       "                                    ingredients_text  additives_n  \\\n",
       "0  farine de blé, huile de tournesol, eau, sel, s...            1   \n",
       "1  sucre - farine de _blé_ - _œufs_ frais 25 % - ...            2   \n",
       "2  pépites de chocolat* 30 % (pâte de cacao*, suc...            2   \n",
       "3  sucre, _noisettes_ 20%, beurre de cacao, poudr...            1   \n",
       "4  mąka grochowa (63.6%), grzanki (9.5%) (mąka pr...            3   \n",
       "5               jus d'orange teneur en fruits 100 %.            0   \n",
       "6          semoule de blé dur de qualité supérieure.            0   \n",
       "7  céréales (farine de froment (31%), céréales co...            3   \n",
       "8                                riz rond blanc 100%            0   \n",
       "9  eau, purée de goyave, jus d'orange à base de j...            0   \n",
       "\n",
       "                                           additives  \\\n",
       "0  ['farine-de-ble', 'farine-de', 'farine', 'huil...   \n",
       "1  ['sucre', 'farine-de-ble', 'farine-de', 'farin...   \n",
       "2  ['pepites-de-chocolat-30', 'pepites-de-chocola...   \n",
       "3  ['sucre', 'noisettes-20', 'noisettes', 'beurre...   \n",
       "4  ['mąka-grochowa', '63-6', 'grzanki', '9-5', 'm...   \n",
       "5  ['jus-d-orange-teneur-en-fruits', 'jus-d-orang...   \n",
       "6  ['semoule-de-ble-dur-de-qualite', 'semoule-de-...   \n",
       "7  ['cereales', 'farine-de-froment', 'farine-de',...   \n",
       "8  ['riz-rond-blanc-100', 'riz-rond-blanc', 'riz-...   \n",
       "9  ['eau', 'puree-de-goyave', 'puree-de', 'puree'...   \n",
       "\n",
       "   ingredients_from_palm_oil_n  ingredients_that_may_be_from_palm_oil_n  \\\n",
       "0                            0                                        0   \n",
       "1                            0                                        0   \n",
       "2                            1                                        0   \n",
       "3                            0                                        0   \n",
       "4                            0                                        0   \n",
       "5                            0                                        0   \n",
       "6                            0                                        0   \n",
       "7                            0                                        1   \n",
       "8                            0                                        0   \n",
       "9                            0                                        0   \n",
       "\n",
       "  nutrition_grade_fr  ...  fat_100g  saturated-fat_100g  carbohydrates_100g  \\\n",
       "0                  c  ...      15.5                1.30                68.0   \n",
       "1                  d  ...       3.2                1.20                80.4   \n",
       "2                  e  ...      25.0               14.00                56.0   \n",
       "3                  e  ...      35.5               15.00                48.5   \n",
       "4                  c  ...       0.8                0.30                 5.5   \n",
       "5                  c  ...       0.1                0.05                10.5   \n",
       "6                  a  ...       2.0                0.50                68.0   \n",
       "7                  e  ...      18.0               10.30                70.3   \n",
       "8                  a  ...       0.5                0.00                78.0   \n",
       "9                  e  ...       0.1                0.02                12.4   \n",
       "\n",
       "   sugars_100g  fiber_100g  proteins_100g  salt_100g  nutrition-score-fr_100g  \\\n",
       "0          2.0         3.0            8.5    1.75260                        9   \n",
       "1         51.8         1.6            6.9    0.09000                       13   \n",
       "2         33.0         5.5            7.0    0.38100                       19   \n",
       "3         47.0         3.3            8.1    0.36000                       23   \n",
       "4          0.4         0.7            1.8    1.01600                        3   \n",
       "5          9.2         0.5            0.6    0.00508                        4   \n",
       "6          3.5         3.0           12.0    0.02540                       -5   \n",
       "7         36.1         2.4            6.0    0.55880                       22   \n",
       "8          0.0         1.0            7.5    0.00000                       -1   \n",
       "9         10.5         0.5            0.3    0.00762                       14   \n",
       "\n",
       "   nutrition-score-uk_100g  language_ingredients  \n",
       "0                        9                    fr  \n",
       "1                       13                    fr  \n",
       "2                       19                    fr  \n",
       "3                       23                    fr  \n",
       "4                        3                    pl  \n",
       "5                       -3                    fr  \n",
       "6                       -5                    fr  \n",
       "7                       22                    fr  \n",
       "8                       -1                    fr  \n",
       "9                        2                    fr  \n",
       "\n",
       "[10 rows x 21 columns]"
      ]
     },
     "execution_count": 49,
     "metadata": {},
     "output_type": "execute_result"
    }
   ],
   "source": [
    "openfood_df.loc[openfood_df['language_ingredients'] != 'en', :].head(10)"
   ]
  },
  {
   "cell_type": "code",
   "execution_count": 50,
   "metadata": {},
   "outputs": [
    {
     "name": "stderr",
     "output_type": "stream",
     "text": [
      "100%|██████████████████████████████████████████████████████████████████████████| 56474/56474 [3:10:13<00:00,  4.95it/s]\n"
     ]
    }
   ],
   "source": [
    "timeout = httpx.Timeout(5) # 5 seconds timeout\n",
    "# translating takes so much time, I will translate the ingredients instead of the additives, same content without duplicates\n",
    "\n",
    "def most_common(List):\n",
    "    return(mode(List))\n",
    "\n",
    "# lets remove the english ones for the sake of time\n",
    "sub_df_test = openfood_df.loc[(openfood_df['language_ingredients'] != 'en'), ['language_ingredients', 'ingredients_text']]\n",
    "\n",
    "# so lets try to translate the additives and ingredients!\n",
    "# lets create the translator\n",
    "translator = Translator()\n",
    "# first lets create two dict that will take the new vals \n",
    "additives_dict = {}\n",
    "ingredients_dict = {}\n",
    "# and in the same process replace all the incorrect lang\n",
    "language_dict = {}\n",
    "        \n",
    "        \n",
    "with tqdm(total=sub_df_test.shape[0]) as pbar:  \n",
    "\n",
    "    #for i, row, in openfood_df[['language_ingredients', 'additives', 'ingredients_text']][:1000].iterrows():\n",
    "    #for i, row in enumerate(openfood_df[['language_ingredients', 'ingredients_text']].values):\n",
    "    for i, row in sub_df_test.iterrows():\n",
    "        \n",
    "        pbar.update(1)\n",
    "\n",
    "        if row[0] == 'unknow':\n",
    "            language_dict[i] = 'unknow'\n",
    "            continue\n",
    "\n",
    "        elif row[0] not in googletrans.LANGUAGES.keys():\n",
    "            language = []\n",
    "            lang = translator.detect(row[1], timeout=timeout)\n",
    "            if isinstance(lang.lang, list):\n",
    "                language.append(lang.lang[0]) # sometimes if gives you a few, the first one is the one with the confidence interval the highest\n",
    "            else:\n",
    "                language.append(lang.lang)\n",
    "            l = most_common(language)\n",
    "            language_dict[i] = l # record it to correct the vals after\n",
    "            # do the translation with the lg found\n",
    "            translations = translator.translate(row[1], src=l, timeout=timeout)\n",
    "            ingredients_dict[i] = translations.text\n",
    "\n",
    "        else:\n",
    "            translations = translator.translate(row[1], src=row[0], timeout=timeout)\n",
    "            ingredients_dict[i] = translations.text\n"
   ]
  },
  {
   "cell_type": "code",
   "execution_count": 51,
   "metadata": {},
   "outputs": [],
   "source": [
    "# now lets replace the vals translated in a new colum\n",
    "# replace function is taking forever and all my RAM, I had to come up with another solution\n",
    "openfood_df['ingredients_text_translated'] = openfood_df['ingredients_text']\n",
    "s = openfood_df.ingredients_text\n",
    "s = s.map(ingredients_dict).fillna(ingredients_dict)\n",
    "s = s.fillna(openfood_df.ingredients_text)\n",
    "openfood_df['ingredients_text_translated'] = s\n",
    "\n",
    "# and the language as well\n",
    "s = openfood_df.language_ingredients\n",
    "s = s.map(language_dict).fillna(language_dict)\n",
    "s = s.fillna(openfood_df.language_ingredients)\n",
    "openfood_df['language_ingredients'] = s"
   ]
  },
  {
   "cell_type": "code",
   "execution_count": 52,
   "metadata": {},
   "outputs": [],
   "source": [
    "openfood_df.reset_index(drop=True, inplace=True)\n",
    "openfood_df.to_csv(\"FoodFactCleaned.csv\", encoding = 'utf-8', index=False)"
   ]
  }
 ],
 "metadata": {
  "kernelspec": {
   "display_name": "Python 3 (ipykernel)",
   "language": "python",
   "name": "python3"
  },
  "language_info": {
   "codemirror_mode": {
    "name": "ipython",
    "version": 3
   },
   "file_extension": ".py",
   "mimetype": "text/x-python",
   "name": "python",
   "nbconvert_exporter": "python",
   "pygments_lexer": "ipython3",
   "version": "3.8.13"
  }
 },
 "nbformat": 4,
 "nbformat_minor": 4
}
